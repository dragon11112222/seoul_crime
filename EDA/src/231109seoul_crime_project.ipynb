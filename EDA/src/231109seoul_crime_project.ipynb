{
 "cells": [
  {
   "cell_type": "code",
   "execution_count": 1,
   "metadata": {},
   "outputs": [
    {
     "name": "stdout",
     "output_type": "stream",
     "text": [
      "hi\n"
     ]
    }
   ],
   "source": [
    "print('hi')"
   ]
  },
  {
   "cell_type": "code",
   "execution_count": 2,
   "metadata": {},
   "outputs": [
    {
     "name": "stdout",
     "output_type": "stream",
     "text": [
      "Retrieving notices: ...working... done\n",
      "Collecting package metadata (current_repodata.json): ...working... done\n",
      "Solving environment: ...working... done\n",
      "\n",
      "## Package Plan ##\n",
      "\n",
      "  environment location: C:\\Users\\SBA\\anaconda3\n",
      "\n",
      "  added / updated specs:\n",
      "    - matplotlib\n",
      "    - pandas\n",
      "    - seaborn\n",
      "\n",
      "\n",
      "The following packages will be downloaded:\n",
      "\n",
      "    package                    |            build\n",
      "    ---------------------------|-----------------\n",
      "    openssl-3.0.12             |       h2bbff1b_0         7.4 MB\n",
      "    pandas-2.1.1               |  py311hf62ec03_0        13.5 MB\n",
      "    ------------------------------------------------------------\n",
      "                                           Total:        20.9 MB\n",
      "\n",
      "The following packages will be UPDATED:\n",
      "\n",
      "  openssl                                 3.0.10-h2bbff1b_2 --> 3.0.12-h2bbff1b_0 \n",
      "  pandas                              2.0.3-py311hf62ec03_0 --> 2.1.1-py311hf62ec03_0 \n",
      "\n",
      "\n",
      "\n",
      "Downloading and Extracting Packages\n",
      "\n",
      "openssl-3.0.12       | 7.4 MB    |            |   0% \n",
      "\n",
      "pandas-2.1.1         | 13.5 MB   |            |   0% \u001b[A\n",
      "openssl-3.0.12       | 7.4 MB    |            |   0% \n",
      "\n",
      "pandas-2.1.1         | 13.5 MB   |            |   0% \u001b[A\n",
      "openssl-3.0.12       | 7.4 MB    | #########1 |  91% \n",
      "\n",
      "pandas-2.1.1         | 13.5 MB   | ##9        |  30% \u001b[A\n",
      "\n",
      "pandas-2.1.1         | 13.5 MB   | ########6  |  87% \u001b[A\n",
      "openssl-3.0.12       | 7.4 MB    | ########## | 100% \n",
      "\n",
      "pandas-2.1.1         | 13.5 MB   | ########## | 100% \u001b[A\n",
      "                                                     \n",
      "\n",
      "\n",
      "                                                     \u001b[A\n",
      "\n",
      "Preparing transaction: ...working... done\n",
      "Verifying transaction: ...working... done\n",
      "Executing transaction: ...working... done\n"
     ]
    },
    {
     "name": "stderr",
     "output_type": "stream",
     "text": [
      "\n",
      "\n",
      "==> WARNING: A newer version of conda exists. <==\n",
      "  current version: 23.7.4\n",
      "  latest version: 23.10.0\n",
      "\n",
      "Please update conda by running\n",
      "\n",
      "    $ conda update -n base -c defaults conda\n",
      "\n",
      "Or to minimize the number of packages updated during conda update use\n",
      "\n",
      "     conda install conda=23.10.0\n",
      "\n",
      "\n"
     ]
    }
   ],
   "source": [
    "!conda install -y pandas matplotlib seaborn"
   ]
  },
  {
   "cell_type": "code",
   "execution_count": 3,
   "metadata": {},
   "outputs": [
    {
     "name": "stdout",
     "output_type": "stream",
     "text": [
      "Collecting koreanize_matplotlib\n",
      "  Downloading koreanize_matplotlib-0.1.1-py3-none-any.whl (7.9 MB)\n",
      "     ---------------------------------------- 0.0/7.9 MB ? eta -:--:--\n",
      "     ---------------------------------------- 0.0/7.9 MB 2.0 MB/s eta 0:00:04\n",
      "     --- ------------------------------------ 0.6/7.9 MB 7.7 MB/s eta 0:00:01\n",
      "     ------- -------------------------------- 1.5/7.9 MB 11.6 MB/s eta 0:00:01\n",
      "     --------------- ------------------------ 3.1/7.9 MB 18.3 MB/s eta 0:00:01\n",
      "     --------------------------- ------------ 5.4/7.9 MB 26.5 MB/s eta 0:00:01\n",
      "     ---------------------------------------- 7.9/7.9 MB 31.7 MB/s eta 0:00:00\n",
      "Requirement already satisfied: matplotlib in c:\\users\\sba\\anaconda3\\lib\\site-packages (from koreanize_matplotlib) (3.7.2)\n",
      "Requirement already satisfied: contourpy>=1.0.1 in c:\\users\\sba\\anaconda3\\lib\\site-packages (from matplotlib->koreanize_matplotlib) (1.0.5)\n",
      "Requirement already satisfied: cycler>=0.10 in c:\\users\\sba\\anaconda3\\lib\\site-packages (from matplotlib->koreanize_matplotlib) (0.11.0)\n",
      "Requirement already satisfied: fonttools>=4.22.0 in c:\\users\\sba\\anaconda3\\lib\\site-packages (from matplotlib->koreanize_matplotlib) (4.25.0)\n",
      "Requirement already satisfied: kiwisolver>=1.0.1 in c:\\users\\sba\\anaconda3\\lib\\site-packages (from matplotlib->koreanize_matplotlib) (1.4.4)\n",
      "Requirement already satisfied: numpy>=1.20 in c:\\users\\sba\\anaconda3\\lib\\site-packages (from matplotlib->koreanize_matplotlib) (1.24.3)\n",
      "Requirement already satisfied: packaging>=20.0 in c:\\users\\sba\\anaconda3\\lib\\site-packages (from matplotlib->koreanize_matplotlib) (23.1)\n",
      "Requirement already satisfied: pillow>=6.2.0 in c:\\users\\sba\\anaconda3\\lib\\site-packages (from matplotlib->koreanize_matplotlib) (9.4.0)\n",
      "Requirement already satisfied: pyparsing<3.1,>=2.3.1 in c:\\users\\sba\\anaconda3\\lib\\site-packages (from matplotlib->koreanize_matplotlib) (3.0.9)\n",
      "Requirement already satisfied: python-dateutil>=2.7 in c:\\users\\sba\\anaconda3\\lib\\site-packages (from matplotlib->koreanize_matplotlib) (2.8.2)\n",
      "Requirement already satisfied: six>=1.5 in c:\\users\\sba\\anaconda3\\lib\\site-packages (from python-dateutil>=2.7->matplotlib->koreanize_matplotlib) (1.16.0)\n",
      "Installing collected packages: koreanize_matplotlib\n",
      "Successfully installed koreanize_matplotlib-0.1.1\n"
     ]
    }
   ],
   "source": [
    "!pip install koreanize_matplotlib"
   ]
  },
  {
   "cell_type": "markdown",
   "metadata": {},
   "source": [
    "# 서울시 범죄현황 데이터 분석 프로젝트"
   ]
  },
  {
   "cell_type": "code",
   "execution_count": 5,
   "metadata": {},
   "outputs": [],
   "source": [
    "import pandas as pd\n",
    "import numpy as np\n",
    "import matplotlib.pyplot as plt\n",
    "import seaborn as sns\n",
    "import koreanize_matplotlib"
   ]
  },
  {
   "cell_type": "code",
   "execution_count": 7,
   "metadata": {},
   "outputs": [],
   "source": [
    "crime_raw_data = pd.read_csv('../data/seoul_crime_2021.csv', encoding='cp949')"
   ]
  },
  {
   "cell_type": "markdown",
   "metadata": {},
   "source": [
    "copy path 써도 됨 : C:\\Users\\SBA\\Documents\\GitHub\\seoul_crime\\EDA\\data\\seoul_crime_2021.csv"
   ]
  },
  {
   "cell_type": "code",
   "execution_count": null,
   "metadata": {},
   "outputs": [],
   "source": []
  }
 ],
 "metadata": {
  "kernelspec": {
   "display_name": "base",
   "language": "python",
   "name": "python3"
  },
  "language_info": {
   "codemirror_mode": {
    "name": "ipython",
    "version": 3
   },
   "file_extension": ".py",
   "mimetype": "text/x-python",
   "name": "python",
   "nbconvert_exporter": "python",
   "pygments_lexer": "ipython3",
   "version": "3.11.5"
  }
 },
 "nbformat": 4,
 "nbformat_minor": 2
}
